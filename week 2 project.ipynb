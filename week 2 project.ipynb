{
  "metadata": {
    "language_info": {
      "codemirror_mode": {
        "name": "python",
        "version": 3
      },
      "file_extension": ".py",
      "mimetype": "text/x-python",
      "name": "python",
      "nbconvert_exporter": "python",
      "pygments_lexer": "ipython3",
      "version": "3.8"
    },
    "kernelspec": {
      "name": "python",
      "display_name": "Python (Pyodide)",
      "language": "python"
    }
  },
  "nbformat_minor": 4,
  "nbformat": 4,
  "cells": [
    {
      "cell_type": "code",
      "source": "#Import python Libraries\nimport pandas as pd\nimport numpy as np\nimport sklearn\nfrom sklearn.model_selection import train_test_split\nfrom sklearn.linear_model import LinearRegression\nfrom sklearn.model_selection import train_test_split\nfrom sklearn.metrics import mean_squared_error\nfrom sklearn.metrics import accuracy_score, classification_report, confusion_matrix\nfrom sklearn.preprocessing import StandardScaler\nfrom sklearn.multioutput import MultiOutputClassifier\nfrom sklearn.ensemble import RandomForestRegressor\nfrom sklearn.preprocessing import LabelEncoder\nfrom sklearn.impute import SimpleImputer\n",
      "metadata": {
        "trusted": true
      },
      "execution_count": 1,
      "outputs": []
    },
    {
      "cell_type": "code",
      "source": "#import my data\ndata=pd.read_csv(\"Airbnb_data.csv\")",
      "metadata": {
        "trusted": true
      },
      "execution_count": 2,
      "outputs": []
    },
    {
      "cell_type": "code",
      "source": "#Encode categorical variables\ncategorical_features = data.select_dtypes(include=['object']).columns\n\n",
      "metadata": {
        "trusted": true
      },
      "execution_count": 3,
      "outputs": []
    },
    {
      "cell_type": "code",
      "source": "label_encoder = LabelEncoder()\nfor feature in categorical_features:\n    data[feature] = label_encoder.fit_transform(data[feature])",
      "metadata": {
        "trusted": true
      },
      "execution_count": 4,
      "outputs": []
    },
    {
      "cell_type": "code",
      "source": "data.head(3)\n",
      "metadata": {
        "trusted": true
      },
      "execution_count": 5,
      "outputs": [
        {
          "execution_count": 5,
          "output_type": "execute_result",
          "data": {
            "text/plain": "     id   name  host_id  host_name  neighbourhood_group  neighbourhood  \\\n0  2539  12328     2787       4989                    1            108   \n1  2595  37455     2845       4785                    2            127   \n2  3647  43543     4632       2909                    2             94   \n\n   latitude  longitude  room_type  price  minimum_nights  number_of_reviews  \\\n0  40.64749  -73.97237          1    149               1                  9   \n1  40.75362  -73.98377          0    225               1                 45   \n2  40.80902  -73.94190          1    150               3                  0   \n\n   last_review  reviews_per_month  calculated_host_listings_count  \\\n0         1501               0.21                               6   \n1         1715               0.38                               2   \n2         1764                NaN                               1   \n\n   availability_365  \n0               365  \n1               355  \n2               365  ",
            "text/html": "<div>\n<style scoped>\n    .dataframe tbody tr th:only-of-type {\n        vertical-align: middle;\n    }\n\n    .dataframe tbody tr th {\n        vertical-align: top;\n    }\n\n    .dataframe thead th {\n        text-align: right;\n    }\n</style>\n<table border=\"1\" class=\"dataframe\">\n  <thead>\n    <tr style=\"text-align: right;\">\n      <th></th>\n      <th>id</th>\n      <th>name</th>\n      <th>host_id</th>\n      <th>host_name</th>\n      <th>neighbourhood_group</th>\n      <th>neighbourhood</th>\n      <th>latitude</th>\n      <th>longitude</th>\n      <th>room_type</th>\n      <th>price</th>\n      <th>minimum_nights</th>\n      <th>number_of_reviews</th>\n      <th>last_review</th>\n      <th>reviews_per_month</th>\n      <th>calculated_host_listings_count</th>\n      <th>availability_365</th>\n    </tr>\n  </thead>\n  <tbody>\n    <tr>\n      <th>0</th>\n      <td>2539</td>\n      <td>12328</td>\n      <td>2787</td>\n      <td>4989</td>\n      <td>1</td>\n      <td>108</td>\n      <td>40.64749</td>\n      <td>-73.97237</td>\n      <td>1</td>\n      <td>149</td>\n      <td>1</td>\n      <td>9</td>\n      <td>1501</td>\n      <td>0.21</td>\n      <td>6</td>\n      <td>365</td>\n    </tr>\n    <tr>\n      <th>1</th>\n      <td>2595</td>\n      <td>37455</td>\n      <td>2845</td>\n      <td>4785</td>\n      <td>2</td>\n      <td>127</td>\n      <td>40.75362</td>\n      <td>-73.98377</td>\n      <td>0</td>\n      <td>225</td>\n      <td>1</td>\n      <td>45</td>\n      <td>1715</td>\n      <td>0.38</td>\n      <td>2</td>\n      <td>355</td>\n    </tr>\n    <tr>\n      <th>2</th>\n      <td>3647</td>\n      <td>43543</td>\n      <td>4632</td>\n      <td>2909</td>\n      <td>2</td>\n      <td>94</td>\n      <td>40.80902</td>\n      <td>-73.94190</td>\n      <td>1</td>\n      <td>150</td>\n      <td>3</td>\n      <td>0</td>\n      <td>1764</td>\n      <td>NaN</td>\n      <td>1</td>\n      <td>365</td>\n    </tr>\n  </tbody>\n</table>\n</div>"
          },
          "metadata": {}
        }
      ]
    },
    {
      "cell_type": "code",
      "source": "#data preprocessing\nmissing_data = data.isnull().sum()\nprint(\"Missing_Data:\\n\", missing_data)",
      "metadata": {
        "trusted": true
      },
      "execution_count": 6,
      "outputs": [
        {
          "name": "stdout",
          "text": "Missing_Data:\n id                                    0\nname                                  0\nhost_id                               0\nhost_name                             0\nneighbourhood_group                   0\nneighbourhood                         0\nlatitude                              0\nlongitude                             0\nroom_type                             0\nprice                                 0\nminimum_nights                        0\nnumber_of_reviews                     0\nlast_review                           0\nreviews_per_month                 10052\ncalculated_host_listings_count        0\navailability_365                      0\ndtype: int64\n",
          "output_type": "stream"
        }
      ]
    },
    {
      "cell_type": "code",
      "source": "data.fillna(data.median(), inplace=True)",
      "metadata": {
        "trusted": true
      },
      "execution_count": 7,
      "outputs": []
    },
    {
      "cell_type": "code",
      "source": "missing_data = data.isnull().sum()\nprint(\"Missing_Data:\\n\", missing_data)",
      "metadata": {
        "trusted": true
      },
      "execution_count": 8,
      "outputs": [
        {
          "name": "stdout",
          "text": "Missing_Data:\n id                                0\nname                              0\nhost_id                           0\nhost_name                         0\nneighbourhood_group               0\nneighbourhood                     0\nlatitude                          0\nlongitude                         0\nroom_type                         0\nprice                             0\nminimum_nights                    0\nnumber_of_reviews                 0\nlast_review                       0\nreviews_per_month                 0\ncalculated_host_listings_count    0\navailability_365                  0\ndtype: int64\n",
          "output_type": "stream"
        }
      ]
    },
    {
      "cell_type": "code",
      "source": "# Split into features and target\nx = data.drop(\"price\", axis=1)\nx.head(2)",
      "metadata": {
        "trusted": true
      },
      "execution_count": 9,
      "outputs": [
        {
          "execution_count": 9,
          "output_type": "execute_result",
          "data": {
            "text/plain": "     id   name  host_id  host_name  neighbourhood_group  neighbourhood  \\\n0  2539  12328     2787       4989                    1            108   \n1  2595  37455     2845       4785                    2            127   \n\n   latitude  longitude  room_type  minimum_nights  number_of_reviews  \\\n0  40.64749  -73.97237          1               1                  9   \n1  40.75362  -73.98377          0               1                 45   \n\n   last_review  reviews_per_month  calculated_host_listings_count  \\\n0         1501               0.21                               6   \n1         1715               0.38                               2   \n\n   availability_365  \n0               365  \n1               355  ",
            "text/html": "<div>\n<style scoped>\n    .dataframe tbody tr th:only-of-type {\n        vertical-align: middle;\n    }\n\n    .dataframe tbody tr th {\n        vertical-align: top;\n    }\n\n    .dataframe thead th {\n        text-align: right;\n    }\n</style>\n<table border=\"1\" class=\"dataframe\">\n  <thead>\n    <tr style=\"text-align: right;\">\n      <th></th>\n      <th>id</th>\n      <th>name</th>\n      <th>host_id</th>\n      <th>host_name</th>\n      <th>neighbourhood_group</th>\n      <th>neighbourhood</th>\n      <th>latitude</th>\n      <th>longitude</th>\n      <th>room_type</th>\n      <th>minimum_nights</th>\n      <th>number_of_reviews</th>\n      <th>last_review</th>\n      <th>reviews_per_month</th>\n      <th>calculated_host_listings_count</th>\n      <th>availability_365</th>\n    </tr>\n  </thead>\n  <tbody>\n    <tr>\n      <th>0</th>\n      <td>2539</td>\n      <td>12328</td>\n      <td>2787</td>\n      <td>4989</td>\n      <td>1</td>\n      <td>108</td>\n      <td>40.64749</td>\n      <td>-73.97237</td>\n      <td>1</td>\n      <td>1</td>\n      <td>9</td>\n      <td>1501</td>\n      <td>0.21</td>\n      <td>6</td>\n      <td>365</td>\n    </tr>\n    <tr>\n      <th>1</th>\n      <td>2595</td>\n      <td>37455</td>\n      <td>2845</td>\n      <td>4785</td>\n      <td>2</td>\n      <td>127</td>\n      <td>40.75362</td>\n      <td>-73.98377</td>\n      <td>0</td>\n      <td>1</td>\n      <td>45</td>\n      <td>1715</td>\n      <td>0.38</td>\n      <td>2</td>\n      <td>355</td>\n    </tr>\n  </tbody>\n</table>\n</div>"
          },
          "metadata": {}
        }
      ]
    },
    {
      "cell_type": "code",
      "source": "y=data.drop(x , axis=1)\ny.head(5)",
      "metadata": {
        "trusted": true
      },
      "execution_count": 10,
      "outputs": [
        {
          "execution_count": 10,
          "output_type": "execute_result",
          "data": {
            "text/plain": "   price\n0    149\n1    225\n2    150\n3     89\n4     80",
            "text/html": "<div>\n<style scoped>\n    .dataframe tbody tr th:only-of-type {\n        vertical-align: middle;\n    }\n\n    .dataframe tbody tr th {\n        vertical-align: top;\n    }\n\n    .dataframe thead th {\n        text-align: right;\n    }\n</style>\n<table border=\"1\" class=\"dataframe\">\n  <thead>\n    <tr style=\"text-align: right;\">\n      <th></th>\n      <th>price</th>\n    </tr>\n  </thead>\n  <tbody>\n    <tr>\n      <th>0</th>\n      <td>149</td>\n    </tr>\n    <tr>\n      <th>1</th>\n      <td>225</td>\n    </tr>\n    <tr>\n      <th>2</th>\n      <td>150</td>\n    </tr>\n    <tr>\n      <th>3</th>\n      <td>89</td>\n    </tr>\n    <tr>\n      <th>4</th>\n      <td>80</td>\n    </tr>\n  </tbody>\n</table>\n</div>"
          },
          "metadata": {}
        }
      ]
    },
    {
      "cell_type": "code",
      "source": "# training and testing data\nx_train,x_test,y_train,y_test=train_test_split(x,y,test_size=0.2,random_state=42)",
      "metadata": {
        "trusted": true
      },
      "execution_count": 18,
      "outputs": []
    },
    {
      "cell_type": "code",
      "source": "#stardandize numerical features\nscaler = StandardScaler()",
      "metadata": {
        "trusted": true
      },
      "execution_count": 19,
      "outputs": []
    },
    {
      "cell_type": "code",
      "source": "#illustration using linear regression\n\nlr = LinearRegression()\nlr.fit(x_train,y_train)\ny_pred = lr.predict(x_test)",
      "metadata": {
        "trusted": true
      },
      "execution_count": 20,
      "outputs": []
    },
    {
      "cell_type": "code",
      "source": "mse = mean_squared_error(y_test,y_pred)\nprint(f\"Mean Squared Error: {mse}\")\n\n",
      "metadata": {
        "trusted": true
      },
      "execution_count": 27,
      "outputs": [
        {
          "name": "stdout",
          "text": "Mean Squared Error: 39365.18192110989\n",
          "output_type": "stream"
        }
      ]
    },
    {
      "cell_type": "code",
      "source": "#illustration using random forest regressor\nrf = RandomForestRegressor(n_estimators=100, random_state=42)\nrf.fit(x_train, y_train)\n\n",
      "metadata": {
        "trusted": true
      },
      "execution_count": 26,
      "outputs": [
        {
          "name": "stderr",
          "text": "/lib/python3.11/site-packages/sklearn/base.py:1152: DataConversionWarning: A column-vector y was passed when a 1d array was expected. Please change the shape of y to (n_samples,), for example using ravel().\n  return fit_method(estimator, *args, **kwargs)\n",
          "output_type": "stream"
        },
        {
          "execution_count": 26,
          "output_type": "execute_result",
          "data": {
            "text/plain": "RandomForestRegressor(random_state=42)",
            "text/html": "<style>#sk-container-id-2 {color: black;}#sk-container-id-2 pre{padding: 0;}#sk-container-id-2 div.sk-toggleable {background-color: white;}#sk-container-id-2 label.sk-toggleable__label {cursor: pointer;display: block;width: 100%;margin-bottom: 0;padding: 0.3em;box-sizing: border-box;text-align: center;}#sk-container-id-2 label.sk-toggleable__label-arrow:before {content: \"▸\";float: left;margin-right: 0.25em;color: #696969;}#sk-container-id-2 label.sk-toggleable__label-arrow:hover:before {color: black;}#sk-container-id-2 div.sk-estimator:hover label.sk-toggleable__label-arrow:before {color: black;}#sk-container-id-2 div.sk-toggleable__content {max-height: 0;max-width: 0;overflow: hidden;text-align: left;background-color: #f0f8ff;}#sk-container-id-2 div.sk-toggleable__content pre {margin: 0.2em;color: black;border-radius: 0.25em;background-color: #f0f8ff;}#sk-container-id-2 input.sk-toggleable__control:checked~div.sk-toggleable__content {max-height: 200px;max-width: 100%;overflow: auto;}#sk-container-id-2 input.sk-toggleable__control:checked~label.sk-toggleable__label-arrow:before {content: \"▾\";}#sk-container-id-2 div.sk-estimator input.sk-toggleable__control:checked~label.sk-toggleable__label {background-color: #d4ebff;}#sk-container-id-2 div.sk-label input.sk-toggleable__control:checked~label.sk-toggleable__label {background-color: #d4ebff;}#sk-container-id-2 input.sk-hidden--visually {border: 0;clip: rect(1px 1px 1px 1px);clip: rect(1px, 1px, 1px, 1px);height: 1px;margin: -1px;overflow: hidden;padding: 0;position: absolute;width: 1px;}#sk-container-id-2 div.sk-estimator {font-family: monospace;background-color: #f0f8ff;border: 1px dotted black;border-radius: 0.25em;box-sizing: border-box;margin-bottom: 0.5em;}#sk-container-id-2 div.sk-estimator:hover {background-color: #d4ebff;}#sk-container-id-2 div.sk-parallel-item::after {content: \"\";width: 100%;border-bottom: 1px solid gray;flex-grow: 1;}#sk-container-id-2 div.sk-label:hover label.sk-toggleable__label {background-color: #d4ebff;}#sk-container-id-2 div.sk-serial::before {content: \"\";position: absolute;border-left: 1px solid gray;box-sizing: border-box;top: 0;bottom: 0;left: 50%;z-index: 0;}#sk-container-id-2 div.sk-serial {display: flex;flex-direction: column;align-items: center;background-color: white;padding-right: 0.2em;padding-left: 0.2em;position: relative;}#sk-container-id-2 div.sk-item {position: relative;z-index: 1;}#sk-container-id-2 div.sk-parallel {display: flex;align-items: stretch;justify-content: center;background-color: white;position: relative;}#sk-container-id-2 div.sk-item::before, #sk-container-id-2 div.sk-parallel-item::before {content: \"\";position: absolute;border-left: 1px solid gray;box-sizing: border-box;top: 0;bottom: 0;left: 50%;z-index: -1;}#sk-container-id-2 div.sk-parallel-item {display: flex;flex-direction: column;z-index: 1;position: relative;background-color: white;}#sk-container-id-2 div.sk-parallel-item:first-child::after {align-self: flex-end;width: 50%;}#sk-container-id-2 div.sk-parallel-item:last-child::after {align-self: flex-start;width: 50%;}#sk-container-id-2 div.sk-parallel-item:only-child::after {width: 0;}#sk-container-id-2 div.sk-dashed-wrapped {border: 1px dashed gray;margin: 0 0.4em 0.5em 0.4em;box-sizing: border-box;padding-bottom: 0.4em;background-color: white;}#sk-container-id-2 div.sk-label label {font-family: monospace;font-weight: bold;display: inline-block;line-height: 1.2em;}#sk-container-id-2 div.sk-label-container {text-align: center;}#sk-container-id-2 div.sk-container {/* jupyter's `normalize.less` sets `[hidden] { display: none; }` but bootstrap.min.css set `[hidden] { display: none !important; }` so we also need the `!important` here to be able to override the default hidden behavior on the sphinx rendered scikit-learn.org. See: https://github.com/scikit-learn/scikit-learn/issues/21755 */display: inline-block !important;position: relative;}#sk-container-id-2 div.sk-text-repr-fallback {display: none;}</style><div id=\"sk-container-id-2\" class=\"sk-top-container\"><div class=\"sk-text-repr-fallback\"><pre>RandomForestRegressor(random_state=42)</pre><b>In a Jupyter environment, please rerun this cell to show the HTML representation or trust the notebook. <br />On GitHub, the HTML representation is unable to render, please try loading this page with nbviewer.org.</b></div><div class=\"sk-container\" hidden><div class=\"sk-item\"><div class=\"sk-estimator sk-toggleable\"><input class=\"sk-toggleable__control sk-hidden--visually\" id=\"sk-estimator-id-2\" type=\"checkbox\" checked><label for=\"sk-estimator-id-2\" class=\"sk-toggleable__label sk-toggleable__label-arrow\">RandomForestRegressor</label><div class=\"sk-toggleable__content\"><pre>RandomForestRegressor(random_state=42)</pre></div></div></div></div></div>"
          },
          "metadata": {}
        }
      ]
    },
    {
      "cell_type": "code",
      "source": "y_pred = rf.predict(x_test)\n",
      "metadata": {
        "trusted": true
      },
      "execution_count": 32,
      "outputs": []
    },
    {
      "cell_type": "code",
      "source": "mse = mean_squared_error(y_test, y_pred)\nprint(f\"Random Forest Mean Squared Error: {mse}\")",
      "metadata": {
        "trusted": true
      },
      "execution_count": 33,
      "outputs": [
        {
          "name": "stdout",
          "text": "Random Forest Mean Squared Error: 35479.27104226403\n",
          "output_type": "stream"
        }
      ]
    },
    {
      "cell_type": "code",
      "source": "",
      "metadata": {},
      "execution_count": null,
      "outputs": []
    }
  ]
}